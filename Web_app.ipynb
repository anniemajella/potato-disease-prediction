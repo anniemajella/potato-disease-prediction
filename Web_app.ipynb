{
 "nbformat": 4,
 "nbformat_minor": 0,
 "metadata": {
  "colab": {
   "provenance": []
  },
  "kernelspec": {
   "name": "python3",
   "display_name": "Python 3"
  },
  "language_info": {
   "name": "python"
  }
 },
 "cells": [
  {
   "cell_type": "code",
   "execution_count": null,
   "metadata": {
    "colab": {
     "base_uri": "https://localhost:8080/"
    },
    "id": "a-ZR9keWK_X0",
    "outputId": "a1c37c66-61f8-4091-dd5e-0e5a70c1fecd",
    "is_executing": true
   },
   "outputs": [],
   "source": [
    "# For potato leaf disease prediction\n",
    "!pip install streamlit\n",
    "import streamlit as st\n",
    "from PIL import Image\n",
    "import numpy as np\n",
    "import tensorflow.keras as keras\n",
    "import matplotlib.pyplot as plt\n",
    "import tensorflow_hub as hub\n",
    "\n",
    "hide_streamlit_style = \"\"\"\n",
    "\n",
    "            #MainMenu {visibility: hidden;}\n",
    "            footer {visibility: hidden;}\n",
    "\n",
    "            \"\"\"\n",
    "st.markdown(hide_streamlit_style, unsafe_allow_html = True)\n",
    "\n",
    "st.title('Potato Leaf Disease Prediction')\n",
    "\n",
    "def main() :\n",
    "    file_uploaded = st.file_uploader('Choose an image...', type = 'jpg')\n",
    "    if file_uploaded is not None :\n",
    "        image = Image.open(file_uploaded)\n",
    "        st.write(\"Uploaded Image.\")\n",
    "        figure = plt.figure()\n",
    "        plt.imshow(image)\n",
    "        plt.axis('off')\n",
    "        st.pyplot(figure)\n",
    "        result, confidence = predict_class(image)\n",
    "        st.write('Prediction : {}'.format(result))\n",
    "        st.write('Confidence : {}%'.format(confidence))\n",
    "\n",
    "def predict_class(image) :\n",
    "    with st.spinner('Loading Model...'):\n",
    "        classifier_model = keras.models.load_model(r'final_model.h5', compile = False)\n",
    "\n",
    "    shape = ((256,256,3))\n",
    "    model = keras.Sequential([hub.KerasLayer(classifier_model, input_shape = shape)])\n",
    "    test_image = image.resize((256, 256))\n",
    "    test_image = keras.preprocessing.image.img_to_array(test_image)\n",
    "    test_image /= 255.0\n",
    "    test_image = np.expand_dims(test_image, axis = 0)\n",
    "    class_name = ['Potato__Early_blight', 'Potato__Late_blight', 'Potato__healthy']\n",
    "\n",
    "    prediction = model.predict(test_image)\n",
    "    confidence = round(100 * (np.max(prediction[0])), 2)\n",
    "    final_pred = class_name[np.argmax(prediction)]\n",
    "    return final_pred, confidence\n",
    "\n",
    "footer =\"\"\"\n",
    "a:link , a:visited{\n",
    "    color: white;\n",
    "    background-color: transparent;\n",
    "    text-decoration: None;\n",
    "}\n",
    "\n",
    "a:hover,  a:active {\n",
    "    color: red;\n",
    "    background-color: transparent;\n",
    "    text-decoration: None;\n",
    "}\n",
    "\n",
    ".footer {\n",
    "    position: fixed;\n",
    "    left: 0;\n",
    "    bottom: 0;\n",
    "    width: 100%;\n",
    "    background-color: transparent;\n",
    "    color: black;\n",
    "    text-align: center;\n",
    "}\n",
    "\"\"\"\n",
    "st.markdown(footer, unsafe_allow_html = True)\n",
    "if __name__ == '__main__' :\n",
    "  main()"
   ]
  }
 ]
}
